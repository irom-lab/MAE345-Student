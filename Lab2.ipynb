{
 "cells": [
  {
   "cell_type": "markdown",
   "metadata": {},
   "source": [
    "# LQR Control of a Quadrotor\n",
    "\n",
    "In this part, we are going to use a hover state linearization of the quadrotor, like you wrote in the previous lab to allow the quadrotor to hover. First, we are going to import the various classes and functions we need."
   ]
  },
  {
   "cell_type": "code",
   "execution_count": null,
   "metadata": {},
   "outputs": [],
   "source": [
    "from mae345 import plotting, Crazyflie, animate_quad\n",
    "import matplotlib.pyplot as plt\n",
    "import numpy as np\n",
    "from scipy.linalg import solve_continuous_are\n",
    "from IPython.display import HTML"
   ]
  },
  {
   "cell_type": "markdown",
   "metadata": {},
   "source": [
    "## Problem 1\n",
    "\n",
    "Now, in the cell below, you will fillout the function that will actually solve the LQR problem. That is, given the matrices $\\mathbf{A}, \\mathbf{B}, \\mathbf{Q}, \\mathbf{R}$, you should compute the $K$ that minimizes the LQR cost function. You are encouraged to use the function `scipy.linalg.solve_continuous_are` to solve the CARE. Also, we use the convention that the stabilizing control input is given by $\\mathbf{u} = \\mathbf{K}\\mathbf{x}$ (as opposed to $\\mathbf{u} = -\\mathbf{K}\\mathbf{x}$)."
   ]
  },
  {
   "cell_type": "code",
   "execution_count": null,
   "metadata": {},
   "outputs": [],
   "source": []
  },
  {
   "cell_type": "markdown",
   "metadata": {},
   "source": [
    "## Problem 2\n",
    "\n",
    "Finally, you will use all the code you have written thus far to actually stabilize your Crazyflie. The following code implements a version of the Crazyflie class from our `mae345` library that uses the linearization and LQR functions you just wrote. This class is useful as it provides simulation and animation functionality to varify your controller is working. It also saves out $\\mathbf{K}$ so it can be loaded onto the actual quadrotor for control. You will need to adjust the gains yourself, but we filled in a few for you to get started.\n",
    "\n",
    "Once you have a set of gains you want to try on the quadrotor, simply navigate to the `~/MAE345` in your terminal and run the command `sudo python3 run_lab1.py`. It will load the feedback matrix corresponding to your LQR controller and run it on the drone. The drone takes off and lands using the Crazyflie's own PID controller, but your LQR controller will stabilize the drone once it is hover a half meter off the ground. The drone beeps when switching controllers. You must submit the following to confirm that you got the drone to hover successfully:\n",
    "- A video of your drone hovering\n",
    "- The file `quad_data/quad_traj.npz`\n",
    "- This notebook file\n",
    "\n",
    "### LQR Design\n",
    "\n",
    "The code for this problem is broken into two sections: designing the LQR controller and running the Crazyflie.\n",
    "\n",
    "The following cell uses the `lqr` function you just wrote in conjunction with our implementation of the linearization function from the previous lab (here as `self.hover_state_linearization()`) to create an instance of the `CrazyflieLQR` class. The details of this process are not important, but this class provides a lot of functionality for designing the LQR controller. It also saves the $\\mathbf{K}$ matrix out as `quad_data/lqr_gains.npy`."
   ]
  },
  {
   "cell_type": "code",
   "execution_count": null,
   "metadata": {},
   "outputs": [],
   "source": [
    "class CrazyflieLQR(Crazyflie):\n",
    "    def __init__(self, Q: np.ndarray, R: np.ndarray, hover_pos: np.ndarray):\n",
    "        super().__init__()\n",
    "        self._hover_pos = hover_pos\n",
    "        self._hover_state = np.concatenate([self._hover_pos, np.zeros(9)])\n",
    "        A, B =  self.hover_state_linearization()\n",
    "        self._K = lqr(A, B, Q, R)\n",
    "        \n",
    "        print('Using K matrix:')\n",
    "        print()\n",
    "        print(self._K)\n",
    "        \n",
    "        np.save('quad_data/lqr_gains', self._K)\n",
    "        \n",
    "    @property\n",
    "    def K(self) -> np.ndarray:\n",
    "        return self._K\n",
    "    \n",
    "    def controller(self, state: np.ndarray, t: float) -> np.ndarray:\n",
    "        return self._K @ (state - self._hover_state) + np.array([self.mass * self.gravity, 0, 0, 0])\n",
    "\n",
    "# The first argument is the Q matrix, the second is the R matrix\n",
    "quad = CrazyflieLQR(np.diag([1000, 1000, 2000, 0.001, 0.001, 1, 100, 100, 1, 0.005, 0.005, 1]), 2 * np.diag([1e5, 6e9, 6e9, 1e4]), np.zeros(3))"
   ]
  },
  {
   "cell_type": "markdown",
   "metadata": {},
   "source": [
    "This next cell simulates the quadrotor flying with a random initial condition for five seconds and plots some of the states. You should see the system stabilize, or your gains will almost certainly not work on the real Crazyflie. Feel free to change the plotted variables."
   ]
  },
  {
   "cell_type": "code",
   "execution_count": null,
   "metadata": {},
   "outputs": [],
   "source": [
    "# Uncomment the following line if you want to use the same random initial condition.\n",
    "# np.random.seed(0)\n",
    "\n",
    "ic = np.random.rand(12) * 1.2\n",
    "ic[0:3] = ic[0:3] / 5\n",
    "ic[6:9] = ic[6:9] / 5\n",
    "\n",
    "times, states, inputs = quad.simulate(ic, 5, 0.01, clip_input=False)\n",
    "\n",
    "#%matplotlib notebook\n",
    "plt.rcParams[\"figure.figsize\"] = (16,8)\n",
    "fig = plt.figure()\n",
    "\n",
    "ax = fig.add_subplot(121, title='Position')\n",
    "ax.plot(times, states[0, :], label='x')\n",
    "ax.plot(times, states[1, :], label='y')\n",
    "ax.plot(times, states[2, :], label='z')\n",
    "ax.legend()\n",
    "\n",
    "ax = fig.add_subplot(122, title='Angles')\n",
    "ax.plot(times, states[3, :], label='phi')\n",
    "ax.plot(times, states[4, :], label='theta')\n",
    "ax.plot(times, states[5, :], label='psi')\n",
    "ax.legend()"
   ]
  },
  {
   "cell_type": "markdown",
   "metadata": {},
   "source": [
    "This cell optionally animates the simulation data computed and plotted in the previous cell."
   ]
  },
  {
   "cell_type": "code",
   "execution_count": null,
   "metadata": {},
   "outputs": [],
   "source": [
    "HTML(animate_quad(0.1, states).to_html5_video())"
   ]
  },
  {
   "cell_type": "markdown",
   "metadata": {},
   "source": [
    "Finally, this cell plots the result of your physical experiments, i.e. the data logged by the most recent run of `run_lab1.py` in `quad_data/quad_traj.npz`. If you run it before flying the quadrotor, it will error since there is currently no flight data present."
   ]
  },
  {
   "cell_type": "code",
   "execution_count": null,
   "metadata": {},
   "outputs": [],
   "source": [
    "import os\n",
    "\n",
    "if os.path.isfile('quad_data/quad_traj.npz'):\n",
    "    npzfile = np.load('quad_data/quad_traj.npz')\n",
    "\n",
    "    plt.rcParams[\"figure.figsize\"] = (16,8)\n",
    "    fig = plt.figure()\n",
    "\n",
    "    ax = fig.add_subplot(311, title='Position')\n",
    "    ax.plot(npzfile['e_x'], label='x')\n",
    "    ax.plot(npzfile['e_y'], label='y')\n",
    "    ax.legend()\n",
    "\n",
    "    ax = fig.add_subplot(312, title='Angles')\n",
    "    ax.plot(npzfile['e_roll'], label='phi')\n",
    "    ax.plot(npzfile['e_pitch'], label='theta')\n",
    "    ax.legend()\n",
    "\n",
    "    ax = fig.add_subplot(313, title='Moments')\n",
    "    ax.plot(npzfile['u2_pwm'] / (2 ** 15), label='M1')\n",
    "    ax.plot(npzfile['u3_pwm'] / (2 ** 15), label='M2')\n",
    "    ax.legend()\n",
    "else:\n",
    "    print('No flight data found.')"
   ]
  },
  {
   "cell_type": "markdown",
   "metadata": {},
   "source": [
    "### Running the Quadrotor\n",
    "\n",
    "#### Setup\n",
    "\n",
    "Now that you have a set of LQR gains you are happy with trying out, it's time to put them on the quadrotor. First, you need to flash the quadrotor with our modified version of the Crazyflie's firmware. Our modifications apply the LQR control law in real time --- i.e. much faster than we could do with Python over the radio.\n",
    "\n",
    "**You only need to do this successfully once.** First, hold the power switch down for about 3 seconds until the two blue LEDs flash in sync. Then, open up your terminal and enter the following two commands:\n",
    "\n",
    "``\n",
    "cd ~/crazyflie-firmware\n",
    "make cload\n",
    "``\n",
    "\n",
    "Once this is completed, your Crazyflie should restart and play a jingle. If all the lights are on, not flashing, and no jingle plays, repeat the flashing process.\n",
    "\n",
    "#### Flying\n",
    "\n",
    "Now change the `group_number` variable to have your group number like last week."
   ]
  },
  {
   "cell_type": "code",
   "execution_count": null,
   "metadata": {},
   "outputs": [],
   "source": [
    "group_number = 80"
   ]
  },
  {
   "cell_type": "markdown",
   "metadata": {},
   "source": [
    "To test out the quadrotor, simply run the cell below after placing it in the netted area. If you seen an error about something missing in the Log TOC (e.g. `stabilizer.controller not in param TOC`), this most likely means your computer lost connection with the drone midflight."
   ]
  },
  {
   "cell_type": "code",
   "execution_count": null,
   "metadata": {},
   "outputs": [],
   "source": [
    "import logging\n",
    "import random\n",
    "import time\n",
    "import numpy as np\n",
    "\n",
    "import cflib.crtp\n",
    "from cflib.crazyflie import Crazyflie\n",
    "from cflib.crazyflie.syncCrazyflie import SyncCrazyflie\n",
    "from cflib.crazyflie.log import LogConfig\n",
    "from cflib.crazyflie.syncLogger import SyncLogger\n",
    "\n",
    "URI = f'radio://0/{group_number}/2M'\n",
    "\n",
    "# Only output errors from the logging framework\n",
    "logging.basicConfig(level=logging.ERROR)\n",
    "\n",
    "log_keys = ['e_x',\n",
    "            'e_y',\n",
    "            'e_roll',\n",
    "            'e_pitch',\n",
    "            'u2_pwm',\n",
    "            'u3_pwm',]\n",
    "\n",
    "other_log_keys = []\n",
    "\n",
    "if __name__ == '__main__':\n",
    "    cflib.crtp.init_drivers(enable_debug_driver=False)\n",
    "\n",
    "    with SyncCrazyflie(URI, cf=Crazyflie(rw_cache='./cache')) as scf:\n",
    "        cf = scf.cf\n",
    "\n",
    "        lg_stab = LogConfig(name='LQR', period_in_ms=10)\n",
    "        lg_data = {}\n",
    "\n",
    "        for key in log_keys:\n",
    "            lg_stab.add_variable('ctrlLQR.' + key, 'float')\n",
    "            lg_data[key] = []\n",
    "\n",
    "        for key in other_log_keys:\n",
    "            lg_stab.add_variable( key, 'float')\n",
    "            lg_data[key.split('.')[1]] = []\n",
    "\n",
    "        for i in range(4):\n",
    "            for j in range(12):\n",
    "                cf.param.set_value(f'ctrlLQR.k{i + 1}{j + 1}', '{:.10f}'.format(quad.K[i, j]))\n",
    "\n",
    "        print('Loaded LQR gain matrix.')\n",
    "        print('Initializing as PID')\n",
    "        cf.param.set_value('stabilizer.controller', '1')\n",
    "\n",
    "        cf.param.set_value('kalman.resetEstimation', '1')\n",
    "        time.sleep(0.1)\n",
    "        cf.param.set_value('kalman.resetEstimation', '0')\n",
    "        time.sleep(2)\n",
    "\n",
    "        print('Reset Kalman filter.')\n",
    "        print('Taking off!')\n",
    "\n",
    "        for y in range(10):\n",
    "            cf.commander.send_hover_setpoint(0, 0, 0, y / 25)\n",
    "            #cf.commander.send_stop_setpoint()\n",
    "            time.sleep(0.1)\n",
    "\n",
    "        for _ in range(50):\n",
    "            cf.commander.send_hover_setpoint(0, 0, 0, 0.5)\n",
    "            #cf.commander.send_stop_setpoint()\n",
    "            time.sleep(0.1)\n",
    "\n",
    "        print('Switching to LQR!')\n",
    "        cf.param.set_value('stabilizer.controller', '3')\n",
    "\n",
    "        with SyncLogger(scf, lg_stab) as logger:\n",
    "            t_start = time.time()\n",
    "            entry_count = 0\n",
    "\n",
    "            for log_entry in logger:\n",
    "                cf.commander.send_hover_setpoint(0, 0, 0, 0.5)\n",
    "                for key, value in log_entry[1].items():\n",
    "                    lg_data[key.split('.')[1]].append(value)\n",
    "\n",
    "                entry_count += 1\n",
    "\n",
    "                if time.time() - t_start > 5:\n",
    "                    break\n",
    "\n",
    "        print('Saving data...')\n",
    "        for key in lg_data.keys():\n",
    "            lg_data[key] = np.array(lg_data[key])\n",
    "\n",
    "        np.savez('quad_data/quad_traj', **lg_data)\n",
    "\n",
    "        print('Switching to PID!')\n",
    "        cf.param.set_value('stabilizer.controller', '1')\n",
    "\n",
    "        for _ in range(60):\n",
    "            cf.commander.send_hover_setpoint(0, 0, 0, 0.5)\n",
    "            time.sleep(0.1)\n",
    "\n",
    "        for y in range(10):\n",
    "            cf.commander.send_hover_setpoint(0, 0, 0, (10 - y) / 25)\n",
    "            time.sleep(0.1)\n",
    "\n",
    "        for i in range(10):\n",
    "            cf.commander.send_stop_setpoint()\n",
    "            time.sleep(0.1)\n",
    "\n",
    "print('Done!') "
   ]
  }
 ],
 "metadata": {
  "kernelspec": {
   "display_name": "Python 3",
   "language": "python",
   "name": "python3"
  },
  "language_info": {
   "codemirror_mode": {
    "name": "ipython",
    "version": 3
   },
   "file_extension": ".py",
   "mimetype": "text/x-python",
   "name": "python",
   "nbconvert_exporter": "python",
   "pygments_lexer": "ipython3",
   "version": "3.6.8"
  }
 },
 "nbformat": 4,
 "nbformat_minor": 2
}
