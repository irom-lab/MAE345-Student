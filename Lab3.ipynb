{
 "cells": [
  {
   "cell_type": "markdown",
   "metadata": {},
   "source": [
    "# Implementing the A-star algorithm (50 pts)\n",
    "\n",
    "In this coding assignment, you will implement the A-star algorithm to search a maze. A maze is represented as an array of 0s and 1s. A cell in the maze is occupied if it is marked \"1\" and unoccupied if it is marked \"0\". The A-star algorithm will find the shortest path from A to B. The maze, along with the start and end positions are listed in the main() function.\n",
    "\n",
    "A few IMPORTANT notes:\n",
    "- A position in the maze is given by (x,y). As in lecture, x is the horizontal position along the maze, and y is the vertical position.\n",
    "- Indexing in python starts from 0. Thus, in the given maze, (0,0) represents the bottom left cell and (9,9) represents the top right cell. As another example, (9,0) represents the right most cell at the bottom. \n",
    "- For simplicity, we will make A-star find the shortest path in the maze from A to B. Thus, the cost l(x, x') associated with an edge between x and x' will simply be 1.\n",
    "\n",
    "We have provided a number of helper functions for you (see below) and have also completed some portions of the code. You will complete the portions marked \"TO DO\". The code will return a path from A to B that avoids the obstacle cells. It may be helpful to refer to the slides from Lecture 7 posted on Blackboard; the slides contain pseudocode.\n",
    "\n"
   ]
  },
  {
   "cell_type": "code",
   "execution_count": 111,
   "metadata": {
    "collapsed": false
   },
   "outputs": [
    {
     "name": "stdout",
     "output_type": "stream",
     "text": [
      "[(0, 0), (1, 0), (2, 0), (3, 0), (4, 0), (5, 0), (5, 1), (5, 2), (5, 3), (6, 3), (7, 3), (8, 3), (8, 4), (9, 4), (9, 5), (9, 6), (8, 6), (7, 6)]\n"
     ]
    }
   ],
   "source": [
    "############################## DO NOT MODIFY (but please read) ##############################################\n",
    "# These are helper functions \n",
    "\n",
    "class Vertex():\n",
    "    \"\"\"A class for vertices\"\"\"\n",
    "\n",
    "    def __init__(self, parent=None, position=None):\n",
    "        self.parent = parent # Keeps track of parent of a vertex\n",
    "        self.position = position # Keeps track of position of a vertex\n",
    "\n",
    "        self.C = float('inf') # Estimate of cost-to-come\n",
    "        self.H = 0 # Heuristic\n",
    "        self.F = float('inf') # F = C + H (as in class)\n",
    "\n",
    "    def __eq__(self, other): # Allows you to check if two vertices are the same by doing \"vertex_1 == vertex_2\"\n",
    "        return self.position == other.position   \n",
    "    \n",
    "def GetBestVertex(Q):\n",
    "    \"\"\"Get the vertex \"x_vertex\" in Q that has the lowest value of F\"\"\"\n",
    "    \"\"\"Returns x_vertex and the index of x_vertex in Q\"\"\"\n",
    "    x_vertex = Q[0]\n",
    "    x_index = 0\n",
    "    for index, item in enumerate(Q):\n",
    "        if item.F < x_vertex.F:\n",
    "            x_vertex = item\n",
    "            x_index = index\n",
    "            \n",
    "    return x_vertex, x_index   \n",
    "\n",
    "def getNeighbors(x_vertex, maze):\n",
    "    \"\"\"Get neighbors of x_vertex\"\"\"\n",
    "    neighbors = []\n",
    "    for new_position in [(-1, 0), (0, 1), (1,0), (0,-1)]: # Adjacent vertices\n",
    "\n",
    "        # Get node position\n",
    "        vertex_position = (x_vertex.position[0] + new_position[0], x_vertex.position[1] + new_position[1])\n",
    "\n",
    "        # Make sure it is within range\n",
    "        if vertex_position[0] > (len(maze) - 1) or vertex_position[0] < 0 or vertex_position[1] > (len(maze[len(maze)-1]) -1) or vertex_position[1] < 0:\n",
    "            continue\n",
    "\n",
    "        # Make sure it is not occupied by an obstacle\n",
    "        if maze[len(maze)-vertex_position[1]-1][vertex_position[0]] != 0:\n",
    "            continue\n",
    "\n",
    "        # Create new vertex\n",
    "        new_vertex = Vertex(None, vertex_position)\n",
    "\n",
    "        # Append\n",
    "        neighbors.append(new_vertex)\n",
    "        \n",
    "    return neighbors\n",
    "############################################################################################################\n",
    "\n",
    "\n",
    "\n",
    "\n",
    "################ TO DO: FILL THIS IN #####################################################\n",
    "def computeH(vertex, B_vertex):\n",
    "    \"\"\"Function for computing heuristic H(vertex). To compute H(vertex), use computeH(vertex,B_vertex)\"\"\"\n",
    "    \"\"\"Recall that the heuristic is an underestimate of the cost-to-go from a vertex to the goal\"\"\"\n",
    "    \"\"\"You can use the heuristic we discussed in class. You can try other heuristics too if you are curious.\"\"\"\n",
    "    \n",
    "    return  \n",
    "##########################################################################################\n",
    "\n",
    "\n",
    "######### This is the function that implements A star; you will fill in parts of this #########\n",
    "def astar(maze, A, B):\n",
    "    \"\"\"Returns a list of tuples as a path from A to B in the given maze\"\"\"\n",
    "    \n",
    "    ############################## DO NOT MODIFY ##############################################\n",
    "    # Create start and end vertices\n",
    "    A_vertex = Vertex(None, A) \n",
    "    B_vertex = Vertex(None, B)\n",
    "    A_vertex.C = 0\n",
    "    A_vertex.H = computeH(A_vertex, B_vertex)\n",
    "    A_vertex.F = A_vertex.H\n",
    "\n",
    "    # Initialize Q and \"dead\" state list\n",
    "    Q = []\n",
    "    Q.append(A_vertex)\n",
    "    DeadSet = []\n",
    "    ############################################################################################\n",
    "\n",
    "    # Loop until you get to the goal\n",
    "    while len(Q) > 0:\n",
    "\n",
    "        ################ TO DO: IMPLEMENT GetBestVertex(Q) #####################################\n",
    "        # Get the current vertex: \"x_vertex\", i.e., the one that has the lowest value of F\n",
    "        x_vertex, x_index = GetBestVertex(Q) # Implement this function\n",
    "        ########################################################################################\n",
    "\n",
    "        ################### DO NOT MODIFY THIS ##############################################\n",
    "        # Check if we are at the goal vertex B\n",
    "        if x_vertex == B_vertex:\n",
    "            # If we are, backtrack to get the path\n",
    "            path = []\n",
    "            current = x_vertex\n",
    "            while current is not None:\n",
    "                path.append(current.position)\n",
    "                current = current.parent\n",
    "            return path[::-1] # Return reversed path\n",
    "        #####################################################################################\n",
    "        \n",
    "        ########################### TO DO ############################################\n",
    "        # Remove x_vertex from Q, add to dead list\n",
    "        \n",
    "        #####################################################################################\n",
    "\n",
    "        ################### DO NOT MODIFY THIS ##############################################\n",
    "        # Generate neighbors\n",
    "        neighbors = getNeighbors(x_vertex, maze)\n",
    "        #####################################################################################\n",
    "        \n",
    "        # TO DO: FILL THIS IN #############################\n",
    "        # Loop through neighbors, update costs, etc.\n",
    "        for x_prime in neighbors:\n",
    "                \n",
    "        ##########################################################\n",
    "        \n",
    "##############################################################################################        \n",
    "        \n",
    "\n",
    "\n",
    "############################## DO NOT MODIFY ##############################################\n",
    "maze = [[0, 0, 0, 0, 1, 0, 0, 0, 0, 0],\n",
    "        [0, 0, 0, 0, 1, 0, 1, 1, 1, 0],\n",
    "        [0, 0, 1, 1, 1, 0, 0, 0, 0, 0],\n",
    "        [0, 0, 0, 0, 0, 0, 0, 0, 0, 0],\n",
    "        [0, 1, 1, 1, 1, 1, 1, 1, 1, 0],\n",
    "        [0, 0, 0, 0, 0, 0, 1, 1, 0, 0],\n",
    "        [0, 0, 0, 0, 1, 0, 0, 0, 0, 0],\n",
    "        [0, 0, 0, 0, 1, 0, 1, 0, 0, 0],\n",
    "        [1, 1, 1, 1, 1, 0, 1, 1, 0, 0],\n",
    "        [0, 0, 0, 0, 0, 0, 0, 1, 0, 0]]\n",
    "    \n",
    "A = (0, 0)\n",
    "B = (7, 6)\n",
    "    \n",
    "path = astar(maze, A, B)\n",
    "print(path)\n",
    "\n",
    "    \n",
    "############################################################################################    "
   ]
  },
  {
   "cell_type": "markdown",
   "metadata": {},
   "source": [
    "The cell below will visualize the path that your A-star implementation found. Obstacles are colored in purple, free cells are yellow, and the path is shown in green. "
   ]
  },
  {
   "cell_type": "code",
   "execution_count": 112,
   "metadata": {
    "collapsed": false
   },
   "outputs": [
    {
     "data": {
      "image/png": "[encoded data removed]",
      "text/plain": [
       "<matplotlib.figure.Figure at 0x7fcf10d41940>"
      ]
     },
     "metadata": {},
     "output_type": "display_data"
    }
   ],
   "source": [
    "# This cell visualizes the path you found above\n",
    "%matplotlib inline\n",
    "import matplotlib.pyplot as plt\n",
    "import numpy as np\n",
    "\n",
    "maze_modified = 1.0 - np.array(maze)\n",
    "for v in path: \n",
    "    maze_modified[len(maze)-v[1]-1][v[0]] = 0.8\n",
    "maze_modified[len(maze)-A[1]-1][A[0]] = 0.7\n",
    "maze_modified[len(maze)-B[1]-1][B[0]] = 0.7\n",
    "    \n",
    "plt.imshow(maze_modified); # , cmap='hot');\n",
    "plt.axis('off');\n"
   ]
  },
  {
   "cell_type": "markdown",
   "metadata": {},
   "source": [
    "# Submission Instructions\n",
    "\n",
    "Please submit your completed Lab3.ipynb file to the dropbox link below. \n",
    "\n",
    "https://www.dropbox.com/request/ZJbm5Sj7xXoBFn7sKFtX\n",
    "\n",
    "You can drag and drop the completed `Lab3.ipynb` into this submission page. The page will ask you to type in your name. \n",
    "\n",
    "Also, please don't forget to turn in your solution to the written portion of the assignment in the box marked \"MAE 345\" under the undergraduate mailboxes. Thank you!"
   ]
  },
  {
   "cell_type": "code",
   "execution_count": null,
   "metadata": {
    "collapsed": true
   },
   "outputs": [],
   "source": []
  }
 ],
 "metadata": {
  "anaconda-cloud": {},
  "kernelspec": {
   "display_name": "Python [default]",
   "language": "python",
   "name": "python3"
  },
  "language_info": {
   "codemirror_mode": {
    "name": "ipython",
    "version": 3
   },
   "file_extension": ".py",
   "mimetype": "text/x-python",
   "name": "python",
   "nbconvert_exporter": "python",
   "pygments_lexer": "ipython3",
   "version": "3.5.2"
  }
 },
 "nbformat": 4,
 "nbformat_minor": 2
}
